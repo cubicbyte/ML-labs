{
 "cells": [
  {
   "cell_type": "code",
   "execution_count": null,
   "metadata": {},
   "outputs": [],
   "source": [
    "import numpy as np"
   ]
  },
  {
   "cell_type": "code",
   "execution_count": 5,
   "metadata": {},
   "outputs": [
    {
     "name": "stdout",
     "output_type": "stream",
     "text": [
      "[1 2 3 4]\n"
     ]
    }
   ],
   "source": [
    "# Створіть одновимірний масив (вектор) зі значеннями натуральних чисел, починаючи з 1, та виведіть його значення.\n",
    "n = np.random.randint(1, 10)\n",
    "arr = np.arange(1, n+1)\n",
    "\n",
    "print(arr)"
   ]
  },
  {
   "cell_type": "code",
   "execution_count": 6,
   "metadata": {},
   "outputs": [
    {
     "name": "stdout",
     "output_type": "stream",
     "text": [
      "[[ 0.54030231 -0.41614684 -0.9899925 ]\n",
      " [-0.65364362  0.28366219  0.96017029]\n",
      " [ 0.75390225 -0.14550003 -0.91113026]]\n"
     ]
    }
   ],
   "source": [
    "# Створіть двовимірний масив (матрицю) розміром 3x3, заповніть його косинусами кожного натурального числа, починаючи з 1, та виведіть його значення.\n",
    "arr = np.arange(1, 10).reshape(3, 3)\n",
    "arr = np.cos(arr)\n",
    "\n",
    "print(arr)"
   ]
  },
  {
   "cell_type": "code",
   "execution_count": 26,
   "metadata": {},
   "outputs": [
    {
     "name": "stdout",
     "output_type": "stream",
     "text": [
      "[ 1 -5  1  1]\n"
     ]
    }
   ],
   "source": [
    "# Створіть масив розміром 3x3, заповніть його випадковими цілими числами від -5 до 5 та виведіть непарні числа.\n",
    "arr = np.random.randint(-5, 6, size=(3, 3))\n",
    "arr = arr[arr % 2 != 0]\n",
    "\n",
    "print(arr)"
   ]
  },
  {
   "cell_type": "code",
   "execution_count": 27,
   "metadata": {},
   "outputs": [
    {
     "name": "stdout",
     "output_type": "stream",
     "text": [
      "[[-0.19255266  0.48760575  0.63097713  0.61182749]\n",
      " [ 0.14594803  0.12837178 -0.23534333  0.0707872 ]\n",
      " [ 0.46990793  0.33882385 -0.61102014 -0.62847473]\n",
      " [ 0.6007475   0.04486787  0.63040886  0.34977271]]\n"
     ]
    }
   ],
   "source": [
    "# Створіть масив розміром 4x4, заповніть його випадковими дійсними числами в діапазоні від -0.7 до 0.7 та виведіть його значення\n",
    "arr = np.random.uniform(-0.7, 0.7, size=(4, 4))\n",
    "print(arr)"
   ]
  },
  {
   "cell_type": "code",
   "execution_count": 29,
   "metadata": {},
   "outputs": [
    {
     "name": "stdout",
     "output_type": "stream",
     "text": [
      "[35 39 30 24 23]\n",
      "[-5 -1 -4  2  3]\n",
      "[300 380 221 143 130]\n"
     ]
    }
   ],
   "source": [
    "# Створіть два одновимірних масиви розміром 5, заповніть їх випадковими цілими числами в діапазоні від 10 до 20 та виконайте на них поелементні операції додавання, віднімання та множення.\n",
    "arr1 = np.random.randint(10, 21, size=5)\n",
    "arr2 = np.random.randint(10, 21, size=5)\n",
    "\n",
    "print(arr1 + arr2)\n",
    "print(arr1 - arr2)\n",
    "print(arr1 * arr2)"
   ]
  },
  {
   "cell_type": "code",
   "execution_count": 30,
   "metadata": {},
   "outputs": [
    {
     "name": "stdout",
     "output_type": "stream",
     "text": [
      "[[150 130 238 202]\n",
      " [169 120 261 237]\n",
      " [101  78 145 143]\n",
      " [121 112 174 125]]\n"
     ]
    }
   ],
   "source": [
    "# Створіть дві матриці 4x4, заповніть їх довільними цілими числами від 1 до 10 та знайдіть їх добуток.\n",
    "arr1 = np.random.randint(1, 11, size=(4, 4))\n",
    "arr2 = np.random.randint(1, 11, size=(4, 4))\n",
    "\n",
    "print(np.dot(arr1, arr2))"
   ]
  },
  {
   "cell_type": "code",
   "execution_count": 31,
   "metadata": {},
   "outputs": [
    {
     "name": "stdout",
     "output_type": "stream",
     "text": [
      "[[35 39 24]\n",
      " [33 38 22]]\n"
     ]
    }
   ],
   "source": [
    "# Створіть дві матриці розміром 2x3 та 3x3, заповніть їх випадковими цілими числами в діапазоні від 1 до 5 та перемножте їх між собою.\n",
    "arr1 = np.random.randint(1, 6, size=(2, 3))\n",
    "arr2 = np.random.randint(1, 6, size=(3, 3))\n",
    "\n",
    "print(np.dot(arr1, arr2))"
   ]
  },
  {
   "cell_type": "code",
   "execution_count": 32,
   "metadata": {},
   "outputs": [
    {
     "name": "stdout",
     "output_type": "stream",
     "text": [
      "[[-0.04098361  0.09016393]\n",
      " [ 0.09836066 -0.01639344]]\n"
     ]
    }
   ],
   "source": [
    "# Створіть матрицю розміром 2x2, заповніть її випадковими цілими числами в діапазоні від 1 до 12 та знайдіть її обернену матрицю.\n",
    "arr = np.random.randint(1, 13, size=(2, 2))\n",
    "arr_inv = np.linalg.inv(arr)\n",
    "\n",
    "print(arr_inv)"
   ]
  },
  {
   "cell_type": "code",
   "execution_count": 33,
   "metadata": {},
   "outputs": [
    {
     "name": "stdout",
     "output_type": "stream",
     "text": [
      "[[0.66194198 0.57019483 0.64048953]\n",
      " [0.27556065 0.77200564 0.80782598]\n",
      " [0.9886685  0.71759985 0.94290054]]\n"
     ]
    }
   ],
   "source": [
    "# Створіть матрицю розміром 3x3, заповніть її випадковими дійсними числами в діапазоні від 0 до 1 та транспонуйте її.\n",
    "arr = np.random.rand(3, 3)\n",
    "arr = arr.T\n",
    "\n",
    "print(arr)"
   ]
  },
  {
   "cell_type": "code",
   "execution_count": 35,
   "metadata": {},
   "outputs": [
    {
     "name": "stdout",
     "output_type": "stream",
     "text": [
      "[[8.81626903]\n",
      " [8.84800069]\n",
      " [6.03248225]]\n"
     ]
    }
   ],
   "source": [
    "# Створіть матрицю розміром 3x4 та вектор розміром 4x1, заповніть матрицю випадковими цілими числами в діапазоні від 1 до 10, а вектор - випадковими дійсними числами від 0 до 1, і знайдіть добуток матриці на вектор.\n",
    "arr = np.random.randint(1, 11, size=(3, 4))\n",
    "vec = np.random.rand(4, 1)\n",
    "\n",
    "print(np.dot(arr, vec))"
   ]
  },
  {
   "cell_type": "code",
   "execution_count": 36,
   "metadata": {},
   "outputs": [
    {
     "name": "stdout",
     "output_type": "stream",
     "text": [
      "[[3.97418954]\n",
      " [9.31257205]]\n"
     ]
    }
   ],
   "source": [
    "# Створіть матрицю розміром 2x3 та вектор розміром 3x1, заповніть матрицю випадковими дійсними числами від 0 до 1, а вектор - випадковими цілими числами в діапазоні від 1 до 10, і знайдіть добуток матриці на вектор.\n",
    "arr = np.random.rand(2, 3)\n",
    "vec = np.random.randint(1, 11, size=(3, 1))\n",
    "\n",
    "print(np.dot(arr, vec))"
   ]
  },
  {
   "cell_type": "code",
   "execution_count": 37,
   "metadata": {},
   "outputs": [
    {
     "name": "stdout",
     "output_type": "stream",
     "text": [
      "22\n"
     ]
    }
   ],
   "source": [
    "# Створіть дві матриці розміром 3x3, заповніть їх випадковими цілими числами в діапазоні від 1 до 5 та знайдіть суму всіх елементів першої матриці.\n",
    "arr1 = np.random.randint(1, 6, size=(3, 3))\n",
    "arr2 = np.random.randint(1, 6, size=(3, 3))\n",
    "\n",
    "print(np.sum(arr1))"
   ]
  },
  {
   "cell_type": "code",
   "execution_count": 38,
   "metadata": {},
   "outputs": [
    {
     "name": "stdout",
     "output_type": "stream",
     "text": [
      "0.000916451025876211\n"
     ]
    }
   ],
   "source": [
    "# Створіть дві матриці розміром 4x4, заповніть їх випадковими дійсними числами в діапазоні від -2 до 2 та знайдіть добуток їх елементів.\n",
    "arr1 = np.random.uniform(-2, 2, size=(4, 4))\n",
    "arr2 = np.random.uniform(-2, 2, size=(4, 4))\n",
    "\n",
    "print(np.prod(arr1 * arr2))"
   ]
  },
  {
   "cell_type": "code",
   "execution_count": 39,
   "metadata": {},
   "outputs": [
    {
     "name": "stdout",
     "output_type": "stream",
     "text": [
      "-9.686202685467379\n"
     ]
    }
   ],
   "source": [
    "# Створіть матрицю розміром 3x3, заповніть її випадковими дійсними числами в діапазоні від -10 до 10 та знайдіть найменший елемент матриці.\n",
    "arr = np.random.uniform(-10, 10, size=(3, 3))\n",
    "\n",
    "print(np.min(arr))"
   ]
  },
  {
   "cell_type": "code",
   "execution_count": null,
   "metadata": {},
   "outputs": [],
   "source": [
    "# Створіть матрицю розміром 3x3, заповніть її випадковими дійсними числами в діапазоні від 0 до 1 та знайдіть вектор-стовпчик, що містить суму елементів кожного стовпця матриці.\n",
    "arr = np.random.rand(3, 3)\n",
    "vec = np.sum(arr, axis=0)\n",
    "\n",
    "print(vec)"
   ]
  },
  {
   "cell_type": "markdown",
   "metadata": {},
   "source": [
    "# Висновок\n",
    "\n",
    "В основному ми згадували основи роботи з Python та бібліотекою NumPy.\n",
    "\n",
    "Ми створювали матриці та вектори, заповнювали їх випадковими числами, а потім виконували такі дії, як множення, додавання, віднімання, транспонування та знаходження оберненої матриці. Ми також обчислювали суми елементів, добутки та середні значення."
   ]
  }
 ],
 "metadata": {
  "kernelspec": {
   "display_name": "Python 3",
   "language": "python",
   "name": "python3"
  },
  "language_info": {
   "codemirror_mode": {
    "name": "ipython",
    "version": 3
   },
   "file_extension": ".py",
   "mimetype": "text/x-python",
   "name": "python",
   "nbconvert_exporter": "python",
   "pygments_lexer": "ipython3",
   "version": "3.12.1"
  }
 },
 "nbformat": 4,
 "nbformat_minor": 2
}
