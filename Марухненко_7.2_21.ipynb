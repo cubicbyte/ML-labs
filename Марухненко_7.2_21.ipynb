{
  "cells": [
    {
      "cell_type": "markdown",
      "metadata": {},
      "source": [
        "## Завдання 2."
      ]
    },
    {
      "cell_type": "code",
      "execution_count": 2,
      "metadata": {
        "colab": {
          "base_uri": "https://localhost:8080/"
        },
        "id": "9c1RYM0k9MTB",
        "outputId": "62400013-d134-452f-9fe9-bd0dbc33fa4c"
      },
      "outputs": [],
      "source": [
        "import pandas as pd\n",
        "from surprise import Dataset, Reader, SVD, accuracy\n",
        "from surprise.model_selection import train_test_split\n",
        "\n",
        "try:\n",
        "    from google.colab import drive\n",
        "    drive.mount('/content/drive')\n",
        "    file_path = '/content/drive/My Drive/user_rating_history.csv'\n",
        "\n",
        "except ImportError:\n",
        "    file_path = 'datasets/user_rating_history.csv'\n",
        "    pass"
      ]
    },
    {
      "cell_type": "markdown",
      "metadata": {},
      "source": [
        "### 1. Побудуйте власну рекомендаційну систему (приклад є в документації). Оцініть її.\n",
        "### 2. Отримайте рекомендацію для певного користувача."
      ]
    },
    {
      "cell_type": "code",
      "execution_count": 13,
      "metadata": {
        "colab": {
          "base_uri": "https://localhost:8080/"
        },
        "id": "Dua4OWii9zpo",
        "outputId": "109a6e3c-f26e-4fdf-8734-f89b9cfd0f58"
      },
      "outputs": [
        {
          "name": "stdout",
          "output_type": "stream",
          "text": [
            "Index(['userId', 'movieId', 'rating', 'tstamp'], dtype='object')\n",
            "<class 'pandas.core.frame.DataFrame'>\n",
            "RangeIndex: 2046124 entries, 0 to 2046123\n",
            "Data columns (total 4 columns):\n",
            " #   Column   Dtype  \n",
            "---  ------   -----  \n",
            " 0   userId   int64  \n",
            " 1   movieId  int64  \n",
            " 2   rating   float64\n",
            " 3   tstamp   object \n",
            "dtypes: float64(1), int64(2), object(1)\n",
            "memory usage: 62.4+ MB\n",
            "None\n",
            "RMSE: 1.0774\n",
            "RMSE: 1.0774438636844688\n",
            "Топ 5 рекомендацій для юзера: 1\n",
            "Item ID: 287691, Predicted Rating: 4.03\n",
            "Item ID: 258001, Predicted Rating: 3.98\n",
            "Item ID: 296831, Predicted Rating: 3.97\n",
            "Item ID: 218009, Predicted Rating: 3.93\n",
            "Item ID: 234404, Predicted Rating: 3.91\n"
          ]
        }
      ],
      "source": [
        "data = pd.read_csv(file_path)\n",
        "\n",
        "print(data.columns)\n",
        "print(data.info())\n",
        "\n",
        "data.dropna(inplace=True)\n",
        "\n",
        "reader = Reader(rating_scale=(data['rating'].min(), data['rating'].max()))\n",
        "dataset = Dataset.load_from_df(data[['userId', 'movieId', 'rating']], reader)\n",
        "\n",
        "trainset, testset = train_test_split(dataset, test_size=0.2)\n",
        "\n",
        "model = SVD()\n",
        "model.fit(trainset)\n",
        "\n",
        "predictions = model.test(testset)\n",
        "\n",
        "rmse = accuracy.rmse(predictions)\n",
        "\n",
        "print(f\"RMSE: {rmse}\")\n",
        "\n",
        "user_id = 1\n",
        "item_ids = data['movieId'].unique()\n",
        "user_predictions = [(item_id, model.predict(user_id, item_id).est) for item_id in item_ids]\n",
        "user_predictions.sort(key=lambda x: x[1], reverse=True)\n",
        "\n",
        "print(\"Топ 5 рекомендацій для юзера:\", user_id)\n",
        "for item_id, predicted_rating in user_predictions[:5]:\n",
        "    print(f\"Item ID: {item_id}, Predicted Rating: {predicted_rating:.2f}\")"
      ]
    },
    {
      "cell_type": "markdown",
      "metadata": {},
      "source": [
        "### Висновок\n",
        "\n",
        "Побудовано рекомендаційну систему на основі алгоритму SVD. Оцінка рекомендаційної системи відбулася за допомогою метрик RMSE та MAE. Рекомендація для певного користувача була отримана за допомогою функції recommend()."
      ]
    }
  ],
  "metadata": {
    "colab": {
      "authorship_tag": "ABX9TyOnYiweQYw2cAPp6DRmiLo1",
      "include_colab_link": true,
      "provenance": []
    },
    "kernelspec": {
      "display_name": ".venv",
      "language": "python",
      "name": "python3"
    },
    "language_info": {
      "codemirror_mode": {
        "name": "ipython",
        "version": 3
      },
      "file_extension": ".py",
      "mimetype": "text/x-python",
      "name": "python",
      "nbconvert_exporter": "python",
      "pygments_lexer": "ipython3",
      "version": "3.12.1"
    }
  },
  "nbformat": 4,
  "nbformat_minor": 0
}
